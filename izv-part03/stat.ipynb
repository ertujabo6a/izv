{
 "cells": [
  {
   "cell_type": "markdown",
   "id": "624eeac3-b7d2-4f74-9745-cd8c87cc513f",
   "metadata": {},
   "source": [
    "Autor: Aleksandr Dmitriev (240259/xdmitr01)"
   ]
  },
  {
   "cell_type": "code",
   "execution_count": 1,
   "id": "c5319a04-2022-4324-9b9b-67c83a2d7ca9",
   "metadata": {},
   "outputs": [],
   "source": [
    "import pandas as pd\n",
    "from scipy.stats import chi2_contingency, ttest_ind, normaltest, mannwhitneyu"
   ]
  },
  {
   "cell_type": "markdown",
   "id": "a9070c60-0079-48f8-972d-f99f72079ed6",
   "metadata": {},
   "source": [
    "## Úkol 2: Test hypotézy\n",
    "\n",
    "Naším cílem je ověřit dvě hypotézy na základě poskytnutých dat."
   ]
  },
  {
   "cell_type": "markdown",
   "id": "1c69fc22-3476-484a-8d91-2c1b816ef7f7",
   "metadata": {},
   "source": [
    "## Načtení dat\n",
    "Načteme soubory `accidents.pkl.gz` a `vehicles.pkl.gz` pro analýzu."
   ]
  },
  {
   "cell_type": "code",
   "execution_count": 2,
   "id": "31af3072-faa9-4b59-8e51-40caef355ccd",
   "metadata": {},
   "outputs": [],
   "source": [
    "accidents = pd.read_pickle(\"accidents.pkl.gz\")\n",
    "vehicles = pd.read_pickle(\"vehicles.pkl.gz\")"
   ]
  },
  {
   "cell_type": "markdown",
   "id": "f6d1c920-5d1d-45a6-a65a-2efe7aa208fd",
   "metadata": {},
   "source": [
    "## Prozkoumání dat\n",
    "Zkontrolujeme základní informace o datasetu a prozkoumáme klíčové sloupce."
   ]
  },
  {
   "cell_type": "code",
   "execution_count": 3,
   "id": "3e6782f8-07d2-4184-85c2-60bb529d05aa",
   "metadata": {},
   "outputs": [
    {
     "name": "stdout",
     "output_type": "stream",
     "text": [
      "Accidents dataset info:\n",
      "<class 'pandas.core.frame.DataFrame'>\n",
      "Index: 164646 entries, 0 to 69700\n",
      "Data columns (total 40 columns):\n",
      " #   Column   Non-Null Count   Dtype         \n",
      "---  ------   --------------   -----         \n",
      " 0   p1       164646 non-null  int64         \n",
      " 1   p2a      164646 non-null  object        \n",
      " 2   p2b      164646 non-null  int64         \n",
      " 3   p4a      164646 non-null  int64         \n",
      " 4   p4b      164646 non-null  int64         \n",
      " 5   p4c      164646 non-null  int64         \n",
      " 6   p5a      164646 non-null  int64         \n",
      " 7   p6       164646 non-null  int64         \n",
      " 8   p7       164646 non-null  int64         \n",
      " 9   p8       164646 non-null  int64         \n",
      " 10  p8a      163580 non-null  float64       \n",
      " 11  p9       164646 non-null  int64         \n",
      " 12  p10      164646 non-null  int64         \n",
      " 13  p11      164646 non-null  int64         \n",
      " 14  p11a     163580 non-null  float64       \n",
      " 15  p12      164646 non-null  int64         \n",
      " 16  p13a     164646 non-null  int64         \n",
      " 17  p13b     164646 non-null  int64         \n",
      " 18  p13c     164646 non-null  int64         \n",
      " 19  p14*100  164646 non-null  int64         \n",
      " 20  p15      164646 non-null  int64         \n",
      " 21  p16      164646 non-null  int64         \n",
      " 22  p17      164646 non-null  int64         \n",
      " 23  p18      164646 non-null  int64         \n",
      " 24  p19      164646 non-null  int64         \n",
      " 25  p20      164646 non-null  int64         \n",
      " 26  p21      164646 non-null  int64         \n",
      " 27  p22      164646 non-null  int64         \n",
      " 28  p23      164646 non-null  int64         \n",
      " 29  p24      164646 non-null  int64         \n",
      " 30  p27      164646 non-null  int64         \n",
      " 31  p28      164646 non-null  int64         \n",
      " 32  p34      164646 non-null  int64         \n",
      " 33  p35      164646 non-null  int64         \n",
      " 34  p36      164646 non-null  int64         \n",
      " 35  p37      79765 non-null   float64       \n",
      " 36  p38      78234 non-null   float64       \n",
      " 37  p39      23235 non-null   float64       \n",
      " 38  date     164646 non-null  datetime64[ns]\n",
      " 39  region   164646 non-null  object        \n",
      "dtypes: datetime64[ns](1), float64(5), int64(32), object(2)\n",
      "memory usage: 51.5+ MB\n",
      "None\n",
      "\n",
      "Vehicles dataset info:\n",
      "<class 'pandas.core.frame.DataFrame'>\n",
      "Index: 267504 entries, 0 to 113660\n",
      "Data columns (total 21 columns):\n",
      " #   Column      Non-Null Count   Dtype  \n",
      "---  ------      --------------   -----  \n",
      " 0   p1          267504 non-null  int64  \n",
      " 1   id_vozidla  267504 non-null  int64  \n",
      " 2   p44         267504 non-null  int64  \n",
      " 3   p45a        264800 non-null  float64\n",
      " 4   p45b        222564 non-null  float64\n",
      " 5   p45d        252554 non-null  float64\n",
      " 6   p45f        214288 non-null  float64\n",
      " 7   p47         259850 non-null  object \n",
      " 8   p48a        235104 non-null  float64\n",
      " 9   p48b        234929 non-null  float64\n",
      " 10  p49         235027 non-null  float64\n",
      " 11  p50a        253052 non-null  float64\n",
      " 12  p50b        235022 non-null  float64\n",
      " 13  p51         234966 non-null  float64\n",
      " 14  p52         267504 non-null  int64  \n",
      " 15  p53         267504 non-null  int64  \n",
      " 16  p55a        224294 non-null  float64\n",
      " 17  p55b        191683 non-null  float64\n",
      " 18  p56         267504 non-null  object \n",
      " 19  p57         191685 non-null  float64\n",
      " 20  p58         191677 non-null  float64\n",
      "dtypes: float64(14), int64(5), object(2)\n",
      "memory usage: 44.9+ MB\n",
      "None\n"
     ]
    }
   ],
   "source": [
    "print(\"Accidents dataset info:\")\n",
    "print(accidents.info())\n",
    "print(\"\\nVehicles dataset info:\")\n",
    "print(vehicles.info())"
   ]
  },
  {
   "cell_type": "markdown",
   "id": "c46b0fae-1b5b-4b87-808a-035b5b20935c",
   "metadata": {},
   "source": [
    "## Hypotéza 1:\n",
    "\n",
    "<em>Na silnicích první třídy byly nehody s následky na zdraví se stejnou pravděpodobností jako na dálnicích.</em>\n",
    "\n",
    "K ověření použijeme 𝜒² test s tím, že také určíme, jestli nehody na silnicích 1. třídy\n",
    "vedly častěji či méně často k nehodě s následky na zdraví (sloupec p9) než na dálnicích\n",
    "(p36). V tom nám pomůže “expected” výstup 𝜒2 testu."
   ]
  },
  {
   "cell_type": "markdown",
   "id": "63dd9035-450a-4ba1-ae94-df40a57ce780",
   "metadata": {},
   "source": [
    "Přípravíme data pro Hypotézu 1. Ve sloupci p36 je uveden druh pozemní komunikace,\n",
    "ve sloupci p9 je charakter nehody."
   ]
  },
  {
   "cell_type": "code",
   "execution_count": 4,
   "id": "e50f7f55-ed07-4895-8cb6-9acf2bd12588",
   "metadata": {},
   "outputs": [],
   "source": [
    "first_class = accidents[accidents['p36'] == 1]  # Silnice první třídy\n",
    "d1_health = first_class['p9'].value_counts()\n",
    "highways = accidents[accidents['p36'] == 0]  # Dálnice\n",
    "d0_health = highways['p9'].value_counts()"
   ]
  },
  {
   "cell_type": "markdown",
   "id": "2bf6d3c0-e9cd-4dd0-b6d9-d0da641235de",
   "metadata": {},
   "source": [
    "Vytvoříme kontingenční tabulku pro test:"
   ]
  },
  {
   "cell_type": "code",
   "execution_count": 5,
   "id": "d5f92c5f-3b28-4e30-a088-a92922b1c8d4",
   "metadata": {},
   "outputs": [],
   "source": [
    "contingency_table = pd.DataFrame({\n",
    "    \"1. třída\": d1_health,\n",
    "    \"Dálnice\": d0_health\n",
    "}).fillna(0)"
   ]
  },
  {
   "cell_type": "markdown",
   "id": "e29e0bed-ed9d-424b-a4b8-b88612522992",
   "metadata": {},
   "source": [
    "Provedeme 𝜒² test:"
   ]
  },
  {
   "cell_type": "code",
   "execution_count": 6,
   "id": "07e31bc8-a23f-4db5-b9d9-6d6cef9b7194",
   "metadata": {},
   "outputs": [
    {
     "name": "stdout",
     "output_type": "stream",
     "text": [
      "\n",
      "Kontingenční tabulka:\n",
      "    1. třída  Dálnice\n",
      "p9                   \n",
      "2      14773     6674\n",
      "1       7059     1247\n",
      "\n",
      "Výsledky 𝜒² testu:\n",
      "𝜒²: 794.1532980454858, p-hodnota: 1.0075002730159729e-174, stupně volnosti: 1\n",
      "\n",
      "Očekávané hodnoty:\n",
      "[[15737.26696468  5709.73303532]\n",
      " [ 6094.73303532  2211.26696468]]\n"
     ]
    }
   ],
   "source": [
    "chi2, p, dof, expected = chi2_contingency(contingency_table)\n",
    "\n",
    "print(\"\\nKontingenční tabulka:\")\n",
    "print(contingency_table)\n",
    "print(\"\\nVýsledky 𝜒² testu:\")\n",
    "print(f\"𝜒²: {chi2}, p-hodnota: {p}, stupně volnosti: {dof}\\n\")\n",
    "print(\"Očekávané hodnoty:\")\n",
    "print(expected)"
   ]
  },
  {
   "cell_type": "markdown",
   "id": "4018ba79-333c-4883-b8e0-fdaa944bb9f8",
   "metadata": {},
   "source": [
    "## Interpretace výsledků první hypotézy\n",
    "\n",
    "Extrémně nízká hodnota **p** znamená, že rozdíl mezi pozorovanými a očekávanými hodnotami je statisticky velmi významný. Na hladině významnosti 0.05 **zamítáme** nulovou hypotézu, že rozdělení je stejné. Ve skutečnosti:\n",
    "- Na silnicích první třídy došlo častěji k nehodám s následky na zdraví, než by se očekávalo.\n",
    "- Na dálnicích bylo méně nehod s následky na zdraví, než by odpovídalo očekávání.\n",
    "\n",
    "Očekávané hodnoty představují, jaké počty by měly být pozorovány, pokud by nehody s následky byly rozděleny rovnoměrně mezi silnice první třídy a dálnice. Tento výsledek naznačuje, že nehody s následky na zdraví mají odlišné pravděpodobnosti v závislosti na typu silnice."
   ]
  },
  {
   "cell_type": "markdown",
   "id": "af0611ad-9ef5-48ff-a182-5241374c4845",
   "metadata": {},
   "source": [
    "## Hypotéza 2:\n",
    "<em>Škoda při nehodách trolejbusů je nižší než při nehodách autobusů a tato odchylka je statisticky významná.</em>"
   ]
  },
  {
   "cell_type": "markdown",
   "id": "2e4ad165-b8e3-4b1b-9a3d-c6f4c746922c",
   "metadata": {},
   "source": [
    "Příprava dat pro Hypotézu 2. Ve sloupci p44 je uveden druh vozidla, \n",
    "ve sloupci p53 je uvedena škoda na vozidle ve stokorunách."
   ]
  },
  {
   "cell_type": "code",
   "execution_count": 7,
   "id": "2676a25a-6723-4532-8009-52243e31a1cb",
   "metadata": {},
   "outputs": [],
   "source": [
    "trolleybus_damage = vehicles[vehicles['p44'] == 11]['p53']  # Trolejbusy\n",
    "bus_damage = vehicles[vehicles['p44'] == 8]['p53']  # Autobusy"
   ]
  },
  {
   "cell_type": "markdown",
   "id": "2a392d15-45e3-40ad-a9dd-4e13fa12b45d",
   "metadata": {},
   "source": [
    "Zkontrolujeme distribuce dat:"
   ]
  },
  {
   "cell_type": "code",
   "execution_count": 8,
   "id": "099dd34c-a542-43d4-a412-a2f6cafe473c",
   "metadata": {},
   "outputs": [],
   "source": [
    "_, p_trolleybus = normaltest(trolleybus_damage)\n",
    "_, p_bus = normaltest(bus_damage)"
   ]
  },
  {
   "cell_type": "markdown",
   "id": "476b2e29-8b78-4172-b00e-8cb9b8b7ff11",
   "metadata": {},
   "source": [
    "Pokud jsou data normálně rozložená, použijeme t-test, jinak použijeme Mann-Whitney U test"
   ]
  },
  {
   "cell_type": "code",
   "execution_count": 9,
   "id": "1ce6067c-35b4-4021-ae75-ec95a065f0eb",
   "metadata": {},
   "outputs": [
    {
     "name": "stdout",
     "output_type": "stream",
     "text": [
      "Použitý test: Mann-Whitney U test\n",
      "Mediány: Trolejbus - 50.0, Autobus - 200.0\n",
      "Statistika testu: 469902.5, p-hodnota: 3.5404196579912076e-13\n"
     ]
    }
   ],
   "source": [
    "if p_trolleybus > 0.05 and p_bus > 0.05:\n",
    "    stat, p_value = ttest_ind(trolleybus_damage, bus_damage, equal_var=False)\n",
    "    test_used = \"t-test\"\n",
    "else:\n",
    "    stat, p_value = mannwhitneyu(trolleybus_damage, bus_damage)\n",
    "    test_used = \"Mann-Whitney U test\"\n",
    "\n",
    "print(f\"Použitý test: {test_used}\")\n",
    "print(f\"Mediány: Trolejbus - {trolleybus_damage.median()}, Autobus - {bus_damage.median()}\")\n",
    "print(f\"Statistika testu: {stat}, p-hodnota: {p_value}\")"
   ]
  },
  {
   "cell_type": "markdown",
   "id": "55f8d32a-288c-4678-8fbe-477ca577122a",
   "metadata": {},
   "source": [
    "## Interpretace výsledků druhé hypotézy\n",
    "\n",
    "Mediánová škoda při nehodách autobusů je tedy čtyřikrát vyšší než u trolejbusů. Extrémně nízká hodnota **p-value** (daleko pod hladinou významnosti 0.05) naznačuje, že rozdíl mezi škodami u trolejbusů a autobusů je statisticky významný. Na hladině významnosti 95 % zamítáme nulovou hypotézu, že škody u trolejbusů a autobusů jsou stejné. **Hypotézu potvrzujeme**: Škoda při nehodách trolejbusů je významně nižší než při nehodách autobusů. Statistický test ukázal, že tento rozdíl není náhodný, ale lze jej považovat za skutečný a významný."
   ]
  }
 ],
 "metadata": {
  "kernelspec": {
   "display_name": "Python 3 (ipykernel)",
   "language": "python",
   "name": "python3"
  },
  "language_info": {
   "codemirror_mode": {
    "name": "ipython",
    "version": 3
   },
   "file_extension": ".py",
   "mimetype": "text/x-python",
   "name": "python",
   "nbconvert_exporter": "python",
   "pygments_lexer": "ipython3",
   "version": "3.11.8"
  }
 },
 "nbformat": 4,
 "nbformat_minor": 5
}
